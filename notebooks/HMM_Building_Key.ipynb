{
 "cells": [
  {
   "cell_type": "markdown",
   "metadata": {},
   "source": [
    "# Hidden Markov Model (HMM) Workshop Part 2\n",
    "## Sara Carioscia and Dylan Taylor"
   ]
  },
  {
   "cell_type": "markdown",
   "metadata": {},
   "source": [
    "## Step 1: Getting started"
   ]
  },
  {
   "cell_type": "markdown",
   "metadata": {},
   "source": [
    "First, we `import` any external packages we need. Today, the only external package we use is `numpy`, which lets us use and manipulate the `array` data structure."
   ]
  },
  {
   "cell_type": "code",
   "execution_count": null,
   "metadata": {},
   "outputs": [],
   "source": [
    "import numpy"
   ]
  },
  {
   "cell_type": "markdown",
   "metadata": {},
   "source": [
    "We wanted to make the training data more accessible to you, but unfortunately, the files were a bit too big for github in that format. As such, we've stored the training data as arrays, encoding each nucleotide and state as an integer. Each row of the array is a sequence, and each value in the row is a single nucleotide. You'll load these arrays straight into numpy arrays, and then count the emission, transition, and start probabilities.\n",
    "\n",
    "It's also actually useful to have us encode the states and observations as integers so that we can use them to index arrays. Numpy arrays don't have row and column names, so if you want to look for the transition probability from `intergenic` to `start1`, for example, you'll have to find the index in the array that corresponds to both of those states. If we encode `intergenic` as `0` and `start1` as `1`, to find that transition probability, we just check the array at position `[0,1]`\n",
    "\n",
    "You'll see how that works below.\n",
    "\n",
    "Below, we've made two dictionaries, which we can use to convert from DNA bases and states into integers. We're not actually going to use this, but it shows you how the training data has been encoded."
   ]
  },
  {
   "cell_type": "code",
   "execution_count": null,
   "metadata": {},
   "outputs": [],
   "source": [
    "get_nuc_index = {\n",
    "    'A' : 0,\n",
    "    'C' : 1,\n",
    "    'G' : 2,\n",
    "    'T' : 3\n",
    "}\n",
    "\n",
    "get_state_index = {\n",
    "    'intergenic' : 0,\n",
    "    'start1' : 1,\n",
    "    'start2' : 2,\n",
    "    'start3' : 3,\n",
    "    'exon1' : 4,\n",
    "    'exon2' : 5,\n",
    "    'exon3' : 6,\n",
    "    'intron1' : 7,\n",
    "    'intron2' : 8,\n",
    "    'intron3' : 9,\n",
    "    'stop1' : 10,\n",
    "    'stop2' : 11,\n",
    "    'stop3' : 12\n",
    "}"
   ]
  },
  {
   "cell_type": "markdown",
   "metadata": {},
   "source": [
    "## Step 2: Read in the data"
   ]
  },
  {
   "cell_type": "markdown",
   "metadata": {},
   "source": [
    "Now that we've learned how the training data has been encoded, we want to read in our data.\n",
    "\n",
    "We've put the training data in two `.npy` files in the same directory as this notebook:\n",
    "DNA sequence training data: `HMM_DNA_training.npy`\n",
    "State sequence training data: `HMM_State_training.npy`\n",
    "\n",
    "We can use the function `numpy.load()` to load these files directly into numpy arrays."
   ]
  },
  {
   "cell_type": "code",
   "execution_count": null,
   "metadata": {},
   "outputs": [],
   "source": [
    "DNA_training_data = numpy.load('HMM_DNA_training.npy')\n",
    "State_training_data = numpy.load('HMM_State_training.npy')\n",
    "\n",
    "# Are the arrays the same size?\n",
    "# What does the shape mean?\n",
    "print(DNA_training_data.shape)\n",
    "print(State_training_data.shape)"
   ]
  },
  {
   "cell_type": "markdown",
   "metadata": {},
   "source": [
    "## Step 3: Learn training values to use in our model"
   ]
  },
  {
   "cell_type": "markdown",
   "metadata": {},
   "source": [
    "Now that we have the data read into arrays, we want to use this training data to estimate the probabilities necessary for our model: the start, emission, and transition probabilities.\n",
    "\n",
    "Last week, we determined the emission probabilities for each State by counting the nucleotides (how many times the State emitted an 'A', 'C', 'G' or 'T', divided by the sum for each State). We do the same thing here.\n",
    "\n",
    "![Inferring Probabilities](images/inferring_probabilities.png)\n",
    "\n",
    "First, let's talk about why we encoded our emissions and States as integers.\n",
    "\n",
    "We have 13 states and 4 observations. We can make a 13x4 array, such that the value at position **[i,j]** in the array is the number of times the **ith** state emitted the **jth** observation. Above, we encoded the state `'exon1'` as `4` and we encoded the observation `'T'` as `3`.\n",
    "\n",
    "So to find the number of times the `'exon1'` state emitted the nucleotide `'T'`, we would simply check the array at position `[4,3]`."
   ]
  },
  {
   "cell_type": "markdown",
   "metadata": {},
   "source": [
    "To get those counts, we make an empty array with the correct dimensions (number of rows and columns), which we fill using our data.\n",
    "\n",
    "We make an array of zeros using the `numpy.zeros()` command, and give it the shape we want (rows,columns)."
   ]
  },
  {
   "cell_type": "code",
   "execution_count": null,
   "metadata": {},
   "outputs": [],
   "source": [
    "# Make an array of zeros with 13 rows and 4 columns, and name it `emission_counts`\n",
    "# Each row is a State, and each column shows the number of emissions of a \n",
    "# certain nucleotide for that State\n",
    "emission_counts = numpy.zeros((13,4))"
   ]
  },
  {
   "cell_type": "markdown",
   "metadata": {},
   "source": [
    "For the transition counts, we can create a 13x13 array, such that the value at position **[i,j]** is the number of times that State **i** transitions to State **j**."
   ]
  },
  {
   "cell_type": "code",
   "execution_count": null,
   "metadata": {},
   "outputs": [],
   "source": [
    "transition_counts = numpy.zeros((13,13))"
   ]
  },
  {
   "cell_type": "markdown",
   "metadata": {},
   "source": [
    "Finally, we can create a one-dimensional array of size 13, that contains the \"start\" probabilities of each State."
   ]
  },
  {
   "cell_type": "code",
   "execution_count": null,
   "metadata": {},
   "outputs": [],
   "source": [
    "start_counts = numpy.zeros((13))"
   ]
  },
  {
   "cell_type": "markdown",
   "metadata": {},
   "source": [
    "Now that we've created our zero-count arrays, we need to fill them using our training data.\n",
    "\n",
    "A great way to iterate through data is to use a `for` loop. In this case, we want to investigate the State data and the DNA data at the same time. \n",
    "\n",
    "Using our State data array and our DNA data array, we can find the state that emitted the nucleotide at position **[i,j]** in the DNA data array by looking at the same position, **[i,j]** in the State data array.\n",
    "\n",
    "Because of this, it's better to loop through the indicies of the arrays, rather than the rows themselves. (This allows us to use the same indicies on both arrays)."
   ]
  },
  {
   "cell_type": "code",
   "execution_count": null,
   "metadata": {},
   "outputs": [],
   "source": [
    "# We find the number of rows in the training data using .shape[0].\n",
    "# Using the `range` function with a for loop, we iterate through the row indicies of our two arrays.\n",
    "for row_num in range(DNA_training_data.shape[0]): # when range() only has one input, \n",
    "    # it defaults to being the end, with start as zero and step as 1\n",
    "    # We can do a similar thing for the columns, using .shape[1].\n",
    "    for col_num in range(DNA_training_data.shape[1]):\n",
    "        # To make things easier, let's just store the state a given position,\n",
    "        # [row_num, col_num], in the State array as a variable.\n",
    "        state = State_training_data[row_num,col_num]\n",
    "        # We store the corresponding observation in its own variable.\n",
    "        nucleotide = DNA_training_data[row_num,col_num]\n",
    "\n",
    "        # Now that we have the State and observation,\n",
    "        # we go to the corresponding spot in the emission_counts array,\n",
    "        # and add 1. We do this each time we encounter that State paired with that \n",
    "        # observation, counting the total number of emissions of that observation from \n",
    "        # that state. \n",
    "        emission_counts[state,nucleotide] += 1\n",
    "\n",
    "        # Next we need to consider the State transitions.\n",
    "        # There's one fewer transition than observation in each sequence, \n",
    "        # so we need to check that we're not in the last column.\n",
    "        if col_num < State_training_data.shape[1]-1:\n",
    "            # We determine the next State by checking the next column in the State array. \n",
    "            # We then store that state.\n",
    "            next_state = State_training_data[row_num,col_num+1]\n",
    "\n",
    "            # We had the current state, and we just found the next state. \n",
    "            # We now go to the correct position in the `transition_counts` array and add 1.\n",
    "            transition_counts[state, next_state] += 1\n",
    "\n",
    "        # There's one last thing we want to check. If we're in the first\n",
    "        # column, that State is the starting State.\n",
    "        if col_num == 0:\n",
    "            # We already have the current state, so we can\n",
    "            # just go to that position in the start_counts array and add 1.\n",
    "            start_counts[state] += 1"
   ]
  },
  {
   "cell_type": "markdown",
   "metadata": {},
   "source": [
    "We had some issues with this function taking too long to run, so if this is the case for you, stop the code cell, and just load in the counts by running the cell below"
   ]
  },
  {
   "cell_type": "code",
   "execution_count": null,
   "metadata": {},
   "outputs": [],
   "source": [
    "emission_counts = numpy.load('model_outputs/emission_counts.npy')\n",
    "transition_counts = numpy.load('model_outputs/transition_counts.npy')\n",
    "start_counts = numpy.load('model_outputs/start_counts.npy')"
   ]
  },
  {
   "cell_type": "markdown",
   "metadata": {},
   "source": [
    "### Convert emission counts to probabilities "
   ]
  },
  {
   "cell_type": "markdown",
   "metadata": {},
   "source": [
    "So we now have the *counts* for each emission and transition, but we need to convert these to *probabilities*\n",
    "\n",
    "Let's start with the emission probabilities. As before, we want to make a zero array of the correct shape (which is just the shape of the count array)"
   ]
  },
  {
   "cell_type": "code",
   "execution_count": null,
   "metadata": {},
   "outputs": [],
   "source": [
    "# First, we make an array of zeros in the same shape as our emission counts.\n",
    "# This gives us an easy place (with the correct number of rows and columns)\n",
    "# to store our emission probabilities once we have them.\n",
    "emission_probs = numpy.zeros(emission_counts.shape)\n",
    "\n",
    "# For each row\n",
    "for row_num in range(emission_counts.shape[0]):\n",
    "    # Get the total number of emissions in the current row. \n",
    "    # We're using the `sum` command within the numpy package.\n",
    "    row_sum = numpy.sum(emission_counts[row_num])\n",
    "    # Make sure the sum isn't zero,\n",
    "    if row_sum != 0:\n",
    "        # and set the corresponding row in the probability array to the count row divided by the row total\n",
    "        emission_probs[row_num] = emission_counts[row_num]/row_sum"
   ]
  },
  {
   "cell_type": "markdown",
   "metadata": {},
   "source": [
    "### Convert transition counts to probabilities "
   ]
  },
  {
   "cell_type": "markdown",
   "metadata": {},
   "source": [
    "Now let's do the transition probabilities"
   ]
  },
  {
   "cell_type": "code",
   "execution_count": null,
   "metadata": {},
   "outputs": [],
   "source": [
    "transition_probs = numpy.zeros(transition_counts.shape)\n",
    "\n",
    "for row_num in range(transition_counts.shape[0]):\n",
    "    row_sum = numpy.sum(transition_counts[row_num])\n",
    "    if row_sum != 0:\n",
    "        transition_probs[row_num] = transition_counts[row_num]/row_sum"
   ]
  },
  {
   "cell_type": "markdown",
   "metadata": {},
   "source": [
    "### Convert start counts to probabilities "
   ]
  },
  {
   "cell_type": "code",
   "execution_count": null,
   "metadata": {},
   "outputs": [],
   "source": [
    "start_probs = start_counts / numpy.sum(start_counts)"
   ]
  },
  {
   "cell_type": "markdown",
   "metadata": {},
   "source": [
    "## Step 4: The Forward Algorithm"
   ]
  },
  {
   "cell_type": "markdown",
   "metadata": {},
   "source": [
    "Now we define a function that will use our state probabilities (`s_probs`), transition probabilities (`t_probs`), and emission probabilities (`e_probs`) to run the Forward Algorithm on a test encoded DNA sequence (`encoded_DNA_seq`). Remember that the Forward algorithm gives us the total probability that our model generated our test DNA sequence.\n",
    "\n",
    "![Forward Algorithm](forward_alg_graphic.png)"
   ]
  },
  {
   "cell_type": "code",
   "execution_count": null,
   "metadata": {},
   "outputs": [],
   "source": [
    "# The inputs to our function are the three probabilities, as well as an encoded DNA sequence,\n",
    "# This is the output of our above function, `encode_DNA`\n",
    "def forward_alg(s_probs, t_probs, e_probs, encoded_DNA_seq):\n",
    "    \n",
    "    # To determine the length of our DNA sequence, we take do the `shape` command to get the \n",
    "    # dimensions of our encoded DNA. This gives us (dimension1,dimension2). \n",
    "    # By taking the 0th term of that output, we get the dimension1, which in this case is the length of the DNA. \n",
    "    DNA_length = encoded_DNA_seq.shape[0]\n",
    "    # We do the same thing to get the number of possible states. \n",
    "    num_states = s_probs.shape[0]\n",
    "    \n",
    "    # We make an empty matrix to our probabilities at each step.\n",
    "    # (Think of that rectangle chart used in Week 1, where we have some\n",
    "    # probability for each position)\n",
    "    probability_matrix = numpy.zeros((num_states,DNA_length))\n",
    "    \n",
    "    # Compute the probability matrix.\n",
    "    # `position` refers to each step, as we go from the beginning of `DNA_length` to the end. \n",
    "    for position in range(DNA_length):\n",
    "        # Name the variable `nucleotide` to be the value at the given position in our \n",
    "        # encoded DNA sequence.\n",
    "        nucleotide = encoded_DNA_seq[position]\n",
    "        # If we're at the first position, we don't care about transition probability, but instead the start prob \n",
    "        if position == 0:\n",
    "            # For each state in the series of states\n",
    "            for state in range(num_states):\n",
    "                # For the state, fill in our empty probability_matrix in the correct cell with \n",
    "                # the correct probability: the probability of starting in that state times\n",
    "                # the probability of emitting that nucleotide if in that state.\n",
    "                probability_matrix[state, position] = s_probs[state] * e_probs[state,nucleotide]\n",
    "        # If we're at any position besides the first, we care about the transition probability\n",
    "        else:\n",
    "            # Consider the current state,\n",
    "            for current_state in range(num_states):\n",
    "                # We walk through all the states, as these are the possible previous states\n",
    "                for previous_state in range(num_states):\n",
    "                    # Compute the probability of the path of interest: the probability from the previous cell times\n",
    "                    # the probability of getting to current state from this previous state\n",
    "                    # times the emission probability of the nucleotide in the current state\n",
    "                    path_prob = probability_matrix[previous_state,position-1] * t_probs[previous_state, current_state] *  e_probs[current_state, nucleotide]\n",
    "                    # Because we're going to be summing the probabilities of all possible paths up until this point,\n",
    "                    # we just add the calculated probability to the current probability at the current state\n",
    "                    # and position in our probability matrix\n",
    "                    probability_matrix[current_state, position] += path_prob\n",
    "    \n",
    "    # Now that we've filled out our probability matrix, we want the overall\n",
    "    # probability of the model generating our sequence. To do this, we can just\n",
    "    # sum the values of the last column.\n",
    "    total_prob = numpy.sum(probability_matrix[:,-1]) # The first `:` means all rows, the -1 means just the last column.\n",
    "    \n",
    "    return total_prob"
   ]
  },
  {
   "cell_type": "markdown",
   "metadata": {},
   "source": [
    "Okay! Now that our function is done, let's load in our test dna sequence. This test sequence is from an exon in a real human gene, so we would hope that our model can figure out that this sequence is from a genic region. The sequence has already been encoded using the dictionary above."
   ]
  },
  {
   "cell_type": "code",
   "execution_count": null,
   "metadata": {},
   "outputs": [],
   "source": [
    "test_seq = numpy.load('training_data/DNA_test_sequence.npy')"
   ]
  },
  {
   "cell_type": "markdown",
   "metadata": {},
   "source": [
    "Let's call our function with the start probabilities, transitition probabilities, and emission probabilities to see what the overall probability that our model produced this sequence is!"
   ]
  },
  {
   "cell_type": "code",
   "execution_count": null,
   "metadata": {},
   "outputs": [],
   "source": [
    "full_model_test_prob = forward_alg(start_probs, transition_probs, emission_probs, test_seq)\n",
    "print(full_model_test_prob)"
   ]
  },
  {
   "cell_type": "markdown",
   "metadata": {},
   "source": [
    "## Step 5: Comparing to a null model"
   ]
  },
  {
   "cell_type": "markdown",
   "metadata": {},
   "source": [
    "Okay, so what does this mean? Remember, we need to compare this probability to the probability yieled by a null model to make any real conclusions. A null model would be one where only the intergenic state exists. Let's make one."
   ]
  },
  {
   "cell_type": "code",
   "execution_count": null,
   "metadata": {},
   "outputs": [],
   "source": [
    "# There's only one state in our null model,\n",
    "# so the probability of starting in this state is 1\n",
    "null_start_probs = numpy.array([1])\n",
    "\n",
    "# Again, there's only one state in our null model,\n",
    "# so there's only one transition, from 0 to 0, and\n",
    "# its probability is 1\n",
    "null_transition_probs = numpy.array([[1]]) # We need this array to be 2-dimensional\n",
    "\n",
    "# For the emission probabilities, we can just pull\n",
    "# these from the full model for the intergenic state\n",
    "null_emission_probs = emission_probs[0].reshape((1,4)) # We needed to reshape it, so that it is also 2-dimensional"
   ]
  },
  {
   "cell_type": "markdown",
   "metadata": {},
   "source": [
    "Cool! Let's run the forward algorithm, calling our new null probabilities to determine the probability that our test sequence was generated from a null, intergenic-only model"
   ]
  },
  {
   "cell_type": "code",
   "execution_count": null,
   "metadata": {},
   "outputs": [],
   "source": [
    "null_model_test_prob = forward_alg(null_start_probs, null_transition_probs, null_emission_probs, test_seq)\n",
    "\n",
    "print(null_model_test_prob)"
   ]
  },
  {
   "cell_type": "markdown",
   "metadata": {},
   "source": [
    "The probability the sequence was generated by the full model is higher than the probability it was generated by our null model, indicating that this was probably pulled from a genic region. If we want to try to determine the state path through this region, we can use the Viterbi algorithm.\n",
    "\n",
    "For now, let's calculate the log-odds."
   ]
  },
  {
   "cell_type": "code",
   "execution_count": null,
   "metadata": {},
   "outputs": [],
   "source": [
    "log_odds = numpy.log(full_model_test_prob/null_model_test_prob)\n",
    "print(log_odds)"
   ]
  },
  {
   "cell_type": "markdown",
   "metadata": {},
   "source": [
    "# Bonus: The Viterbi Algorithm"
   ]
  },
  {
   "cell_type": "code",
   "execution_count": null,
   "metadata": {},
   "outputs": [],
   "source": [
    "# The inputs to our function are the three probabilities, as well as an encoded DNA sequence,\n",
    "# This is the output of our above function, `encode_DNA`. \n",
    "def viterbi(s_probs, t_probs, e_probs, encoded_DNA_seq):\n",
    "\n",
    "    # To determine the length of our DNA sequence, we take do the `shape` command to get the \n",
    "    # dimensions of our encoded DNA. This gives us (dimension1,dimension2). \n",
    "    # By taking the 0th term of that output, we get the dimension1, which in this case is the length of the DNA. \n",
    "    DNA_length = encoded_DNA_seq.shape[0]\n",
    "    # We do the same thing to get the number of possible states. \n",
    "    num_states = s_probs.shape[0]\n",
    "\n",
    "    # We make an empty matrix to store the traceback - the path through the states based on \n",
    "    # our emissions. (Think of that rectangle chart used in Week 1, where we have some\n",
    "    # probability for each position.).\n",
    "    traceback_matrix = numpy.zeros((num_states,DNA_length), dtype=int)\n",
    "    \n",
    "    # Because theres one fewer transition than the length of the DNA_seq, we don't care\n",
    "    # about the first column of the traceback array, so we set it as an empty value \n",
    "    traceback_matrix[:,0] = numpy.nan\n",
    "\n",
    "    # We're going to create a probability matrix of the same size.\n",
    "    probability_matrix = numpy.zeros((num_states,DNA_length))\n",
    "\n",
    "    # Compute the probability and traceback matrices.\n",
    "    # `position` refers to each step, as we go from the beginning of `DNA_length` to the end. \n",
    "    for position in range(DNA_length):\n",
    "        # Name the variable `nucleotide` to be the value at the given position in our \n",
    "        # encoded DNA sequence.\n",
    "        nucleotide = encoded_DNA_seq[position]\n",
    "        # If we're at the first position, we don't care about transition probability, but instead the start prob \n",
    "        if position == 0:\n",
    "            # For each state in the series of states\n",
    "            for state in range(num_states):\n",
    "                # For the state, fill in our empty probability_matrix in the correct cell with \n",
    "                # the correct probability: the probability of starting in that state times\n",
    "                # the probability of emitting that nucleotide if in that state.\n",
    "                probability_matrix[state,position] = s_probs[state] * e_probs[state,nucleotide]\n",
    "        # If we're at any position besides the first, we care about the transition probability \n",
    "        else:\n",
    "            # Consider the current state, \n",
    "            for current_state in range(num_states):\n",
    "                # We want to find the maximum probability transition from all possible\n",
    "                # previous states to the current state. We're going to set some\n",
    "                # temporary variables that we can fill with the highest probability previous state\n",
    "                # (and it's probability) as we check all previous states\n",
    "                max_previous_state = None\n",
    "                max_probability = None\n",
    "                # We walk through all the states, as these are the possible previous states\n",
    "                for previous_state in range(num_states):\n",
    "                    # Compute the probability of the path of interest: the probability from the previous cell times\n",
    "                    # the probability of getting to current state from this previous state\n",
    "                    # times the emission probability of the nucleotide in the current state\n",
    "                    path_prob = probability_matrix[previous_state,position-1] * t_probs[previous_state, current_state] *  e_probs[current_state, nucleotide]\n",
    "                    # If this path is higher probability than the current max probability path,\n",
    "                    # (or if we're checking the first possible path)\n",
    "                    # update our tempory variables with the previous state and the path probability\n",
    "                    if max_probability == None or path_prob > max_probability:\n",
    "                        max_previous_state = previous_state\n",
    "                        max_probability = path_prob\n",
    "                # Update the probability matrix using the newly computed maximum probability \n",
    "                probability_matrix[current_state, position] = max_probability\n",
    "                # Update the traceback matrix in the proper location to have the index\n",
    "                # of the max probability previous state\n",
    "                traceback_matrix[current_state, position] = max_previous_state\n",
    "\n",
    "    # Now we've filled out both matrices. We first want to find the probability\n",
    "    # of the max probability path. This is just the max of the last column\n",
    "    # of the probability matrix\n",
    "    max_path_probability = numpy.max(probability_matrix[:,-1])\n",
    "    # Now we find the maximum probability last state as the max probability index\n",
    "    # of the last column of the probability matrix\n",
    "    max_end_state = numpy.argmax(probability_matrix[:,-1])\n",
    "\n",
    "    # Let's set a zero array that will store our maximum state path, as determined\n",
    "    # from the traceback matrix\n",
    "    max_path = numpy.zeros(DNA_length, dtype=int)\n",
    "\n",
    "    # As we navigate the traceback matrix, we're going to update which row (state)\n",
    "    # we're looking at. We start at the max state of the last column (as determined above)\n",
    "    current_state = max_end_state\n",
    "    # We use the `range` command to walk through the traceback matrix. \n",
    "    # We go from the last column to the first (zeroth) column, stepping backwards\n",
    "    # by 1 (i.e. step size -1)\n",
    "    for i in range(DNA_length-1, -1, -1):\n",
    "        # we update our max_path array with our current state\n",
    "        max_path[i] = current_state\n",
    "        # We now figure out what state we transitioned from, which is going\n",
    "        # to be the value in the traceback matrix at our current state and\n",
    "        # current position. We set that as our new current position\n",
    "        current_state = traceback_matrix[current_state, i]\n",
    "\n",
    "    # The function the probability of the most likely path, `max_path_probability`,\n",
    "    # and returns the most likely path itself, `max_path` \n",
    "    return max_path_probability, max_path"
   ]
  },
  {
   "cell_type": "markdown",
   "metadata": {},
   "source": [
    "We check our work by using our test sequence! "
   ]
  },
  {
   "cell_type": "code",
   "execution_count": null,
   "metadata": {},
   "outputs": [],
   "source": [
    "# We run the Viterbi Algorithm function, using the inputs `start_probs`, `transition_probs`,\n",
    "# `emission_probs` from our training data and the encoded DNA output from the above function\n",
    "viterbi_results = viterbi(start_probs, transition_probs, emission_probs, test_seq)\n",
    "\n",
    "# The Viterbi Algorithm function returns two values: the `max_path_probability` and the \n",
    "# `max_path`. We're interested in what that path is - not really its probability. \n",
    "# Remember that python starts counting at zero. So since we want the second value returned\n",
    "# from the Viterbi Algorithm function, `max_path`, we index the `viterbi_results` \n",
    "# asking for the [1] term. \n",
    "print(viterbi_results[1])"
   ]
  }
 ],
 "metadata": {
  "kernelspec": {
   "display_name": "Python 3",
   "language": "python",
   "name": "python3"
  },
  "language_info": {
   "codemirror_mode": {
    "name": "ipython",
    "version": 3
   },
   "file_extension": ".py",
   "mimetype": "text/x-python",
   "name": "python",
   "nbconvert_exporter": "python",
   "pygments_lexer": "ipython3",
   "version": "3.8.5"
  }
 },
 "nbformat": 4,
 "nbformat_minor": 4
}
